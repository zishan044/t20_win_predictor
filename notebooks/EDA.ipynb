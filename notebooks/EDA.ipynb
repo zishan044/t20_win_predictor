{
 "cells": [
  {
   "cell_type": "markdown",
   "id": "bdc57d75",
   "metadata": {},
   "source": [
    "# Problem Statement\n",
    "\n",
    "To predict the winner of a T20 cricket match using historical match and ball-by-ball data, by identifying key factors that influence outcomes and building machine learning models for reliable predictions."
   ]
  },
  {
   "cell_type": "code",
   "execution_count": null,
   "id": "f7e9c593",
   "metadata": {},
   "outputs": [],
   "source": [
    "import numpy as np\n",
    "import pandas as pd\n",
    "import matplotlib.pyplot as plt\n",
    "import seaborn as sns"
   ]
  },
  {
   "cell_type": "markdown",
   "id": "cb3ea4ab",
   "metadata": {},
   "source": [
    "## Data Collection\n",
    "\n",
    "The data has been collected from [Cricsheet](https://cricsheet.org/) which stores ball by ball data for all historical t20 matches."
   ]
  },
  {
   "cell_type": "code",
   "execution_count": null,
   "id": "d1506275",
   "metadata": {},
   "outputs": [],
   "source": [
    "df = pd.read_csv(\"data/matches.csv\")\n",
    "df.head()"
   ]
  },
  {
   "cell_type": "markdown",
   "id": "ac23e96f",
   "metadata": {},
   "source": [
    "## Initial Data Checks\n",
    "\n",
    "- check missing values\n",
    "- check duplicates\n",
    "- check data types\n",
    "- check number of unique values in each categorical column\n",
    "- check statistics of numerical columns"
   ]
  },
  {
   "cell_type": "markdown",
   "id": "1dbbe9ee",
   "metadata": {},
   "source": [
    "### check missing values"
   ]
  },
  {
   "cell_type": "code",
   "execution_count": null,
   "id": "cf3715b7",
   "metadata": {},
   "outputs": [],
   "source": [
    "df.info()"
   ]
  },
  {
   "cell_type": "markdown",
   "id": "c979da04",
   "metadata": {},
   "source": [
    "there are no missing values in any column"
   ]
  },
  {
   "cell_type": "markdown",
   "id": "f570495f",
   "metadata": {},
   "source": [
    "### Check Duplicates"
   ]
  },
  {
   "cell_type": "code",
   "execution_count": 7,
   "id": "6b8ad5c1",
   "metadata": {},
   "outputs": [
    {
     "data": {
      "text/plain": [
       "np.int64(8)"
      ]
     },
     "execution_count": 7,
     "metadata": {},
     "output_type": "execute_result"
    }
   ],
   "source": [
    "df.duplicated(subset=['team1', 'team2', 'date']).sum()"
   ]
  },
  {
   "cell_type": "markdown",
   "id": "bb183f7d",
   "metadata": {},
   "source": [
    "there are 8 duplicates in total"
   ]
  },
  {
   "cell_type": "code",
   "execution_count": 8,
   "id": "b6b9fd09",
   "metadata": {},
   "outputs": [],
   "source": [
    "df.drop_duplicates(subset=['team1', 'team2', 'date'], inplace=True)"
   ]
  },
  {
   "cell_type": "markdown",
   "id": "c0d42d16",
   "metadata": {},
   "source": [
    "### Check data types"
   ]
  },
  {
   "cell_type": "code",
   "execution_count": null,
   "id": "84b89849",
   "metadata": {},
   "outputs": [],
   "source": [
    "cat_cols = [col for col in df.columns if df[col].dtype == 'O']\n",
    "num_cols = [col for col in df.columns if df[col].dtype != 'O']\n",
    "\n",
    "print(f\"total {len(cat_cols)} categorical columns:\")\n",
    "for col in cat_cols:\n",
    "    print(col)\n",
    "\n",
    "print(\"==============================\")\n",
    "\n",
    "print(f\"total {len(num_cols)} numerical columns\")\n",
    "for col in num_cols:\n",
    "    print(col)"
   ]
  },
  {
   "cell_type": "markdown",
   "id": "35853c13",
   "metadata": {},
   "source": [
    "### number of unique values in each categorical column"
   ]
  },
  {
   "cell_type": "code",
   "execution_count": null,
   "id": "e9a3a9f9",
   "metadata": {},
   "outputs": [],
   "source": [
    "for col in cat_cols:\n",
    "    print(f\"{col}: total {len(df[col].unique())} unique values\")"
   ]
  },
  {
   "cell_type": "markdown",
   "id": "93412777",
   "metadata": {},
   "source": [
    "### statistics of numerical columns"
   ]
  },
  {
   "cell_type": "code",
   "execution_count": null,
   "id": "c5346508",
   "metadata": {},
   "outputs": [],
   "source": [
    "df.describe()"
   ]
  },
  {
   "cell_type": "markdown",
   "id": "d6ab79c4",
   "metadata": {},
   "source": [
    "the numerical columns seem to have too many digits after decimal. rounding down to 2 decimal is sufficient"
   ]
  },
  {
   "cell_type": "code",
   "execution_count": null,
   "id": "cec9bfcc",
   "metadata": {},
   "outputs": [],
   "source": [
    "for col in num_cols:\n",
    "    df[col] = df[col].round(2)\n",
    "\n",
    "df[num_cols].head()"
   ]
  },
  {
   "cell_type": "markdown",
   "id": "87a22ea3",
   "metadata": {},
   "source": [
    "## Exploratory Analysis"
   ]
  },
  {
   "cell_type": "markdown",
   "id": "beaee2a6",
   "metadata": {},
   "source": [
    "### Rating Difference\n",
    "\n",
    "does rating difference have a strong impact on outcome?"
   ]
  },
  {
   "cell_type": "code",
   "execution_count": null,
   "id": "cdd8a232",
   "metadata": {},
   "outputs": [],
   "source": [
    "min_elo_diff = df.elo_diff.min()\n",
    "max_elo_diff = df.elo_diff.max()\n",
    "\n",
    "df['team1_win'] = (df['outcome'] == df['team1']).astype(int)\n",
    "\n",
    "\n",
    "df['elo_diff_bucket'] = pd.cut(df['elo_diff'], bins=range(int(min_elo_diff)-20, int(max_elo_diff)+20, 20))\n",
    "\n",
    "\n",
    "prob_by_bucket = df.groupby('elo_diff_bucket').team1_win.mean()\n",
    "count_by_bucket = df.groupby('elo_diff_bucket').team1_win.count()\n",
    "\n",
    "sns.lineplot(x=df['rating_diff'], y=df['winner'])\n",
    "plt.xlabel(\"Rating Difference (Team1 - Team2)\")\n",
    "plt.ylabel(\"Probability of Team1 Win\")\n",
    "plt.show()"
   ]
  }
 ],
 "metadata": {
  "kernelspec": {
   "display_name": "venv",
   "language": "python",
   "name": "python3"
  },
  "language_info": {
   "codemirror_mode": {
    "name": "ipython",
    "version": 3
   },
   "file_extension": ".py",
   "mimetype": "text/x-python",
   "name": "python",
   "nbconvert_exporter": "python",
   "pygments_lexer": "ipython3",
   "version": "3.12.3"
  }
 },
 "nbformat": 4,
 "nbformat_minor": 5
}
